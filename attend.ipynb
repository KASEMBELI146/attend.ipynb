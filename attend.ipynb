import ipywidgets as widgets
from IPython.display import display, clear_output
import pandas as pd

# Dictionary to store user data
user_data = {}

# Define registration form function
def display_registration_form():
    clear_output()
    name = widgets.Text(description="Full Name:")
    dob = widgets.DatePicker(description="Date of Birth:")
    student_id = widgets.Text(description="ID:")
    phone = widgets.Text(description="Phone Number:")
    username = widgets.Text(description="Username:")
    password = widgets.Password(description="Password:")
    register_button = widgets.Button(description="Register")
    output = widgets.Output()

    def register_user(b):
        user_data[username.value] = {
            'name': name.value,
            'date_of_birth': dob.value,
            'id': student_id.value,
            'phone': phone.value,
            'password': password.value,
            'attendance': {}
        }
        output.clear_output()
        with output:
            print(f"User {username.value} registered successfully!")

    register_button.on_click(register_user)

    home_link = widgets.Button(description="Back to Home", button_style='', layout=widgets.Layout(width='auto', height='auto'))
    home_link.style.button_color = 'purple'
    home_link.style.font_size = '20px'
    home_link.on_click(lambda b: home_page())

    display(name, dob, student_id, phone, username, password, register_button, output, home_link)

# Define login form function
def display_login_form():
    clear_output()
    login_output = widgets.Output()

    def login_user(b):
        login_output.clear_output()
        with login_output:
            if login_username.value in user_data and user_data[login_username.value]['password'] == login_password.value:
                print(f"Welcome, {login_username.value}!")
                display_attendance_form()
            else:
                print("Invalid username or password")

    login_username = widgets.Text(description="Username:")
    login_password = widgets.Password(description="Password:")
    login_button = widgets.Button(description="Login")

    home_link = widgets.Button(description="Back to Home", button_style='', layout=widgets.Layout(width='auto', height='auto'))
    home_link.style.button_color = 'purple'
    home_link.style.font_size = '20px'
    home_link.on_click(lambda b: home_page())

    login_button.on_click(login_user)
    display(login_username, login_password, login_button, login_output, home_link)

# Define attendance form function
def display_attendance_form():
    clear_output()
    attendance_output = widgets.Output()

    def mark_attendance(b):
        attendance_output.clear_output()
        with attendance_output:
            username = attendance_username.value
            date = attendance_date.value.strftime('%Y-%m-%d')
            if username in user_data:
                user_data[username]['attendance'][date] = 'Present'
                print(f"Attendance marked for {username} on {date}")
                display_student_table()
            else:
                print("Username not found")

    attendance_username = widgets.Text(description="Username:")
    attendance_date = widgets.DatePicker(description="Date:")
    attendance_button = widgets.Button(description="Mark Attendance")
    
    home_link = widgets.Button(description="Back to Home", button_style='', layout=widgets.Layout(width='auto', height='auto'))
    home_link.style.button_color = 'purple'
    home_link.style.font_size = '20px'
    home_link.on_click(lambda b: home_page())

    attendance_button.on_click(mark_attendance)
    display(attendance_username, attendance_date, attendance_button, attendance_output, home_link)

# Define function to display home page
def home_page():
    clear_output()
    title = widgets.HTML(value="<h1 style='color: green; text-align: center; font-weight: bold; font-size: 32px;'>CS114: Programming II Attendance Confirmation</h1>")
    subtitle = widgets.HTML(value="<h2 style='color: blue; text-align: center; font-weight: bold; font-size: 28px;'>Module Tutor: Dr. Mostafa Al-Emran<br>Faculty of Engineering & IT, The British University in Dubai</h2>")
    
    registration_link = widgets.Button(description="Go to Registration", button_style='', layout=widgets.Layout(width='auto', height='auto'))
    registration_link.style.button_color = 'purple'
    registration_link.style.font_size = '20px'
    registration_link.on_click(lambda b: display_registration_form())
    
    login_link = widgets.Button(description="Go to Login", button_style='', layout=widgets.Layout(width='auto', height='auto'))
    login_link.style.button_color = 'purple'
    login_link.style.font_size = '20px'
    login_link.on_click(lambda b: display_login_form())
    
    display(title, subtitle, widgets.HTML("<br><br>"), registration_link, login_link)

# Function to display student table
def display_student_table():
    data = {
        'Name': [user['name'] for user in user_data.values()],
        'ID': [user['id'] for user in user_data.values()],
        'Attendance Status': ['Present' if user['attendance'] else 'Absent' for user in user_data.values()]
    }
    df = pd.DataFrame(data)
    
    clear_output()
    display(df)

    home_link = widgets.Button(description="Back to Home", button_style='', layout=widgets.Layout(width='auto', height='auto'))
    home_link.style.button_color = 'purple'
    home_link.style.font_size = '20px'
    home_link.on_click(lambda b: home_page())
    display(home_link)

# Display the home page initially
home_page()
