{
 "cells": [
  {
   "cell_type": "code",
   "execution_count": 5,
   "id": "db591ad8-954c-4866-ab17-c3b5d010e39b",
   "metadata": {},
   "outputs": [
    {
     "data": {
      "application/vnd.jupyter.widget-view+json": {
       "model_id": "e36622175dab4497adad32e685f34fa0",
       "version_major": 2,
       "version_minor": 0
      },
      "text/plain": [
       "HTML(value=\"<h1 style='color: green; text-align: center; font-weight: bold; font-size: 32px;'>CS114: Programmi…"
      ]
     },
     "metadata": {},
     "output_type": "display_data"
    },
    {
     "data": {
      "application/vnd.jupyter.widget-view+json": {
       "model_id": "fd84dd052b714ae283903908b4290e4c",
       "version_major": 2,
       "version_minor": 0
      },
      "text/plain": [
       "HTML(value=\"<h2 style='color: blue; text-align: center; font-weight: bold; font-size: 28px;'>Module Tutor: Dr.…"
      ]
     },
     "metadata": {},
     "output_type": "display_data"
    },
    {
     "data": {
      "application/vnd.jupyter.widget-view+json": {
       "model_id": "74cac7ced5514aaeb9e44118c62a7f9c",
       "version_major": 2,
       "version_minor": 0
      },
      "text/plain": [
       "HTML(value='<br><br>')"
      ]
     },
     "metadata": {},
     "output_type": "display_data"
    },
    {
     "data": {
      "application/vnd.jupyter.widget-view+json": {
       "model_id": "e51fc44a976a4b018e3ba29b6ff46df7",
       "version_major": 2,
       "version_minor": 0
      },
      "text/plain": [
       "Button(description='Go to Registration', layout=Layout(height='auto', width='auto'), style=ButtonStyle(button_…"
      ]
     },
     "metadata": {},
     "output_type": "display_data"
    },
    {
     "data": {
      "application/vnd.jupyter.widget-view+json": {
       "model_id": "70eeee34dd5740c7bb0c003ef6ad6aa9",
       "version_major": 2,
       "version_minor": 0
      },
      "text/plain": [
       "Button(description='Go to Login', layout=Layout(height='auto', width='auto'), style=ButtonStyle(button_color='…"
      ]
     },
     "metadata": {},
     "output_type": "display_data"
    }
   ],
   "source": [
    "import ipywidgets as widgets\n",
    "from IPython.display import display, clear_output\n",
    "import pandas as pd\n",
    "\n",
    "# Dictionary to store user data\n",
    "user_data = {}\n",
    "\n",
    "# Define home page\n",
    "def home_page():\n",
    "    clear_output()\n",
    "    # Title and subtitle widgets\n",
    "    title = widgets.HTML(value=\"<h1 style='color: green; text-align: center; font-weight: bold; font-size: 32px;'>CS114: Programming II Attendance Confirmation</h1>\")\n",
    "    subtitle = widgets.HTML(value=\"<h2 style='color: blue; text-align: center; font-weight: bold; font-size: 28px;'>Module Tutor: Dr. Mostafa Al-Emran<br>Faculty of Engineering & IT, The British University in Dubai</h2>\")\n",
    "    \n",
    "    # Registration link button\n",
    "    registration_link = widgets.Button(description=\"Go to Registration\", button_style='', \n",
    "                                       layout=widgets.Layout(width='auto', height='auto'))\n",
    "    registration_link.style.button_color = 'purple'\n",
    "    registration_link.style.font_size = '20px'\n",
    "    registration_link.on_click(lambda b: display_registration_form())\n",
    "    \n",
    "    # Login link button\n",
    "    login_link = widgets.Button(description=\"Go to Login\", button_style='', \n",
    "                                layout=widgets.Layout(width='auto', height='auto'))\n",
    "    login_link.style.button_color = 'purple'\n",
    "    login_link.style.font_size = '20px'\n",
    "    login_link.on_click(lambda b: display_login_form())\n",
    "    \n",
    "    # Display title, subtitle, and links\n",
    "    display(title, subtitle, widgets.HTML(\"<br><br>\"), registration_link, login_link)\n",
    "\n",
    "# Registration form\n",
    "def display_registration_form():\n",
    "    clear_output()\n",
    "    name = widgets.Text(description=\"Full Name:\")\n",
    "    dob = widgets.DatePicker(description=\"Date of Birth:\")\n",
    "    student_id = widgets.Text(description=\"ID:\")\n",
    "    phone = widgets.Text(description=\"Phone Number:\")\n",
    "    username = widgets.Text(description=\"Username:\")\n",
    "    password = widgets.Password(description=\"Password:\")\n",
    "    register_button = widgets.Button(description=\"Register\")\n",
    "    output = widgets.Output()\n",
    "    \n",
    "    def register_user(b):\n",
    "        user_data[username.value] = {\n",
    "            'name': name.value,\n",
    "            'date_of_birth': dob.value,\n",
    "            'id': student_id.value,\n",
    "            'phone': phone.value,\n",
    "            'password': password.value,\n",
    "            'attendance': {}\n",
    "        }\n",
    "        output.clear_output()\n",
    "        with output:\n",
    "            print(f\"User {username.value} registered successfully!\")\n",
    "    \n",
    "    register_button.on_click(register_user)\n",
    "    \n",
    "    # Go back home link button\n",
    "    home_link = widgets.Button(description=\"Back to Home\", button_style='', \n",
    "                               layout=widgets.Layout(width='auto', height='auto'))\n",
    "    home_link.style.button_color = 'purple'\n",
    "    home_link.style.font_size = '20px'\n",
    "    home_link.on_click(lambda b: home_page())\n",
    "    \n",
    "    display(name, dob, student_id, phone, username, password, register_button, output, home_link)\n",
    "\n",
    "# Login form\n",
    "def display_login_form():\n",
    "    clear_output()\n",
    "    login_output = widgets.Output()\n",
    "\n",
    "    def login_user(b):\n",
    "        login_output.clear_output()\n",
    "        with login_output:\n",
    "            if login_username.value in user_data and user_data[login_username.value]['password'] == login_password.value:\n",
    "                print(f\"Welcome, {login_username.value}!\")\n",
    "                display_attendance_form()\n",
    "            else:\n",
    "                print(\"Invalid username or password\")\n",
    "\n",
    "    login_username = widgets.Text(description=\"Username:\")\n",
    "    login_password = widgets.Password(description=\"Password:\")\n",
    "    login_button = widgets.Button(description=\"Login\")\n",
    "    \n",
    "    home_link = widgets.Button(description=\"Back to Home\", button_style='', \n",
    "                               layout=widgets.Layout(width='auto', height='auto'))\n",
    "    home_link.style.button_color = 'purple'\n",
    "    home_link.style.font_size = '20px'\n",
    "    home_link.on_click(lambda b: home_page())\n",
    "\n",
    "    login_button.on_click(login_user)\n",
    "    display(login_username, login_password, login_button, login_output, home_link)\n",
    "\n",
    "# Attendance form\n",
    "def display_attendance_form():\n",
    "    clear_output()\n",
    "    attendance_output = widgets.Output()\n",
    "\n",
    "    def mark_attendance(b):\n",
    "        attendance_output.clear_output()\n",
    "        with attendance_output:\n",
    "            if attendance_username.value in user_data:\n",
    "                user_data[attendance_username.value]['attendance'][attendance_date.value] = 'Present'\n",
    "                print(f\"Attendance marked for {attendance_username.value} on {attendance_date.value}\")\n",
    "                display_student_table()\n",
    "            else:\n",
    "                print(\"Username not found\")\n",
    "\n",
    "    attendance_username = widgets.Text(description=\"Username:\")\n",
    "    attendance_date = widgets.DatePicker(description=\"Date:\")\n",
    "    attendance_button = widgets.Button(description=\"Mark Attendance\")\n",
    "    \n",
    "    home_link = widgets.Button(description=\"Back to Home\", button_style='', \n",
    "                               layout=widgets.Layout(width='auto', height='auto'))\n",
    "    home_link.style.button_color = 'purple'\n",
    "    home_link.style.font_size = '20px'\n",
    "    home_link.on_click(lambda b: home_page())\n",
    "\n",
    "    attendance_button.on_click(mark_attendance)\n",
    "    display(attendance_username, attendance_date, attendance_button, attendance_output, home_link)\n",
    "\n",
    "# Function to display student table\n",
    "def display_student_table():\n",
    "    # Creating a DataFrame from user_data\n",
    "    data = {\n",
    "        'Name': [user['name'] for user in user_data.values()],\n",
    "        'ID': [user['id'] for user in user_data.values()],\n",
    "        'Attendance Status': ['Present' if user['attendance'] else 'Absent' for user in user_data.values()]\n",
    "    }\n",
    "    df = pd.DataFrame(data)\n",
    "    \n",
    "    # Displaying the DataFrame as a table\n",
    "    clear_output()\n",
    "    display(df)\n",
    "\n",
    "    # Home link button\n",
    "    home_link = widgets.Button(description=\"Back to Home\", button_style='', \n",
    "                               layout=widgets.Layout(width='auto', height='auto'))\n",
    "    home_link.style.button_color = 'purple'\n",
    "    home_link.style.font_size = '20px'\n",
    "    home_link.on_click(lambda b: home_page())\n",
    "    display(home_link)\n",
    "\n",
    "# Display the home page initially\n",
    "home_page()\n"
   ]
  },
  {
   "cell_type": "code",
   "execution_count": null,
   "id": "231c024c-0fe6-4e4d-875c-73e09968efa1",
   "metadata": {},
   "outputs": [],
   "source": []
  }
 ],
 "metadata": {
  "kernelspec": {
   "display_name": "Python 3 (ipykernel)",
   "language": "python",
   "name": "python3"
  },
  "language_info": {
   "codemirror_mode": {
    "name": "ipython",
    "version": 3
   },
   "file_extension": ".py",
   "mimetype": "text/x-python",
   "name": "python",
   "nbconvert_exporter": "python",
   "pygments_lexer": "ipython3",
   "version": "3.12.3"
  }
 },
 "nbformat": 4,
 "nbformat_minor": 5
}
